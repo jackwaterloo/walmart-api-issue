{
 "cells": [
  {
   "attachments": {},
   "cell_type": "markdown",
   "metadata": {},
   "source": [
    "# Walmart API Error\n",
    "I keep receiving a 401 response status code after successfully getting access token from my API keys. In my example below I use a GET request to receive more information about generated token. I am also only using Sandbox keys and endpoints.\n",
    "\n",
    "I have have checked the [documentation](https://developer.walmart.com/api/us/mp/auth) over and over. I can't see what I am missing. I don't think anything is wrong. Are my requests not valid in a sandbox environment?"
   ]
  },
  {
   "cell_type": "code",
   "execution_count": 18,
   "metadata": {},
   "outputs": [],
   "source": [
    "import requests\n",
    "import json\n",
    "import uuid\n",
    "import base64\n",
    "from pprint import pprint\n",
    "\n",
    "#importing my keys in\n",
    "with open(r\"raw_files\\personal_info.json\") as f:\n",
    "    API_INFO = json.loads(f.read())\n"
   ]
  },
  {
   "cell_type": "code",
   "execution_count": 19,
   "metadata": {},
   "outputs": [],
   "source": [
    "def request_api_token():\n",
    "    headers = {\n",
    "        \"Authorization\":\"Basic \"+base64.b64encode(API_INFO[\"auth_str\"].encode(\"utf-8\")).decode(\"utf-8\"),\n",
    "        \"WM_QOS.CORRELATION_ID\":str(uuid.uuid1()),\n",
    "        \"Accept\":\"application/json\",\n",
    "        \"WM_SVC.NAME\":\"Walmart Marketplace\"\n",
    "    }\n",
    "    return requests.post(\"https://sandbox.walmartapis.com/v3/token\",headers=headers,data={\"grant_type\":\"client_credentials\"})\n",
    "\n"
   ]
  },
  {
   "cell_type": "code",
   "execution_count": 20,
   "metadata": {},
   "outputs": [
    {
     "name": "stdout",
     "output_type": "stream",
     "text": [
      "Status Code: 200\n"
     ]
    },
    {
     "data": {
      "text/plain": [
       "{'access_token': 'eyJraWQiOiI5MTdmMThhMi1mNTkwLTRhMWEtODJhZS1iNDU4NmNiYzAxYzgiLCJlbmMiOiJBMjU2R0NNIiwiYWxnIjoiZGlyIn0..Bs6TzDTS578YUcpR.qgYsT6s53kICRcEiiUKtqYKVY1zSB9XwBQ18N2jxJQy3UtTdCJ_Nv2dOjj8pOT3xih3groL_joCF8wK52sZaLKWm5ExyIOortUrynhZofojeyVlQHEJmd0FPBzytw36L2GTo5smWiUmtn-1TgCawWRffe5Yl4tlnXUfp-1nIMfZKF30IAWx2X7JL0NIyDQv9j9hBcF1dOtTSaCUy9P7t_6M_NgV3pn5aUwJNSRRdjTHhEM-7EaGR0PU9X3CdeRucL2vsum8HQxJis-MIFUMWFWSG4eILJcO-OTPauQrJsFEOKryhWWi2HlUZLObG7Ql76TpWphbvazJcljWxx2t1lGGIacdfwE8h6EB03_iUvDj2byoIgPCMHODJ0F_7tQiJ_vr93LrWf19OOPhDeQwaPsoRIUnl-M7dyriMUhkSAA6yKq5lVjk2bxjAdfat6PS-UquG83KtpYCZzcW_J1cP72G2L01RCdyUx1yGCFMj1ywafs0DQRfsV7b34YFXBaAalF4uScflvQx-ASphD-ipPdjm3v6mjkoR8fNGRBvaJUHvIU8Ta26OlGa2xCepGJuKEZrkueZA_8Q6ZZV6G94OY5leVVKIb4toG8E0LCX7rU1NGZUgDuPIy2gTWSgVUnrSNudFdXJktw9bxko275C6kBkD7BpbY2rlpp1a6txgRWSgv1Wpq0wwZ9HfCYG1.IGkCFcNxF3DJ64x9_V1bMg',\n",
       " 'token_type': 'Bearer',\n",
       " 'expires_in': 900}"
      ]
     },
     "execution_count": 20,
     "metadata": {},
     "output_type": "execute_result"
    }
   ],
   "source": [
    "#This is where I grab access_token. Look at the function above for more details.\n",
    "api_response = request_api_token()\n",
    "api_token = api_response.json()[\"access_token\"]\n",
    "if api_response.status_code > 204:\n",
    "    print(\"Api request failed with status code:\",api_response.status_code,\"\\n\\n The response was:\\n\"+json.dumps(api_response.json(),indent=2))\n",
    "print(\"Status Code:\",api_response.status_code)\n",
    "api_response.json()"
   ]
  },
  {
   "cell_type": "code",
   "execution_count": 21,
   "metadata": {},
   "outputs": [
    {
     "name": "stdout",
     "output_type": "stream",
     "text": [
      "Status Code: 401\n"
     ]
    },
    {
     "data": {
      "text/plain": [
       "{'error': [{'code': 'UNAUTHORIZED.GMP_GATEWAY_API',\n",
       "   'field': 'UNAUTHORIZED',\n",
       "   'description': 'Unauthorized',\n",
       "   'info': 'Unauthorized',\n",
       "   'severity': 'ERROR',\n",
       "   'category': 'DATA',\n",
       "   'causes': [],\n",
       "   'errorIdentifiers': {}}]}"
      ]
     },
     "execution_count": 21,
     "metadata": {},
     "output_type": "execute_result"
    }
   ],
   "source": [
    "#THe get request at this url is supposed to return information about the access levels of access_token\n",
    "#more infomormation can be found here https://developer.walmart.com/api/us/mp/auth\n",
    "headers = {\n",
    "        \"WM_SEC.ACCESS_TOKEN\":api_token,\n",
    "        \"WM_QOS.CORRELATION_ID\":str(uuid.uuid1()),\n",
    "        \"Accept\":\"application/json\",\n",
    "        \"WM_SVC.NAME\":\"Walmart Marketplace\"\n",
    "    }\n",
    "response = requests.get(headers=headers,url=\"https://sandbox.walmartapis.com/v3/token/detail\")\n",
    "print(\"Status Code:\",response.status_code)\n",
    "response.json()"
   ]
  }
 ],
 "metadata": {
  "kernelspec": {
   "display_name": "webscraping",
   "language": "python",
   "name": "python3"
  },
  "language_info": {
   "codemirror_mode": {
    "name": "ipython",
    "version": 3
   },
   "file_extension": ".py",
   "mimetype": "text/x-python",
   "name": "python",
   "nbconvert_exporter": "python",
   "pygments_lexer": "ipython3",
   "version": "3.10.5"
  },
  "orig_nbformat": 4
 },
 "nbformat": 4,
 "nbformat_minor": 2
}
